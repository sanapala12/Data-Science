{
 "cells": [
  {
   "cell_type": "code",
   "execution_count": null,
   "metadata": {},
   "outputs": [],
   "source": [
    "#If-Else conditions"
   ]
  },
  {
   "cell_type": "code",
   "execution_count": 1,
   "metadata": {},
   "outputs": [
    {
     "name": "stdout",
     "output_type": "stream",
     "text": [
      "condition3\n"
     ]
    }
   ],
   "source": [
    "i=5\n",
    "if i>10:\n",
    "    print(\"condition1\")\n",
    "elif i>5:\n",
    "    print(\"condition2\")\n",
    "else:\n",
    "    print(\"condition3\")"
   ]
  },
  {
   "cell_type": "code",
   "execution_count": 2,
   "metadata": {},
   "outputs": [
    {
     "name": "stdout",
     "output_type": "stream",
     "text": [
      "con1\n"
     ]
    }
   ],
   "source": [
    "if i == 5 : print(\"con1\")"
   ]
  },
  {
   "cell_type": "code",
   "execution_count": 3,
   "metadata": {},
   "outputs": [
    {
     "name": "stdout",
     "output_type": "stream",
     "text": [
      "hello\n"
     ]
    }
   ],
   "source": [
    "i=100\n",
    "j=200\n",
    "print(\"hi\") if i>100 else print(\"hello\")"
   ]
  },
  {
   "cell_type": "code",
   "execution_count": 5,
   "metadata": {},
   "outputs": [
    {
     "name": "stdout",
     "output_type": "stream",
     "text": [
      "hi\n"
     ]
    }
   ],
   "source": [
    "i=100\n",
    "j=200\n",
    "print(\"hi\") if i>=100 else print(\"hello\")"
   ]
  },
  {
   "cell_type": "code",
   "execution_count": 10,
   "metadata": {},
   "outputs": [
    {
     "name": "stdout",
     "output_type": "stream",
     "text": [
      "call\n"
     ]
    }
   ],
   "source": [
    "i=100\n",
    "j=200\n",
    "print(\"hi\") if i>100 else print(\"hello\") if i<100 else print(\"call\")"
   ]
  },
  {
   "cell_type": "code",
   "execution_count": 12,
   "metadata": {},
   "outputs": [
    {
     "name": "stdout",
     "output_type": "stream",
     "text": [
      "Both are true\n"
     ]
    }
   ],
   "source": [
    "i=100\n",
    "j=200\n",
    "\n",
    "if i == 100 and j==200 :\n",
    "    print(\"Both are true\")"
   ]
  },
  {
   "cell_type": "code",
   "execution_count": 16,
   "metadata": {},
   "outputs": [
    {
     "name": "stdout",
     "output_type": "stream",
     "text": [
      "Either of two is true\n"
     ]
    }
   ],
   "source": [
    "i=100\n",
    "j=200\n",
    "\n",
    "if i == 100 or j==300 :\n",
    "    print(\"Either of two is true\")"
   ]
  },
  {
   "cell_type": "code",
   "execution_count": 17,
   "metadata": {},
   "outputs": [],
   "source": [
    "#The pass statement is a null operation; nothing happens when it executes\n",
    "if 'a' is 'a':\n",
    "    pass\n"
   ]
  },
  {
   "cell_type": "code",
   "execution_count": 18,
   "metadata": {},
   "outputs": [
    {
     "name": "stdout",
     "output_type": "stream",
     "text": [
      "i is above 10\n",
      "i is above 10 and 20\n"
     ]
    }
   ],
   "source": [
    "#Nested if\n",
    "i=50\n",
    "\n",
    "if i>10:\n",
    "    print(\"i is above 10\")\n",
    "    if i >20:\n",
    "        print(\"i is above 10 and 20\")\n",
    "    else:\n",
    "        print(\"i is above 10 but below 20\")\n",
    "else:\n",
    "    print(\"i is below 10\")\n",
    "    "
   ]
  },
  {
   "cell_type": "code",
   "execution_count": null,
   "metadata": {},
   "outputs": [],
   "source": []
  }
 ],
 "metadata": {
  "kernelspec": {
   "display_name": "Python 3",
   "language": "python",
   "name": "python3"
  },
  "language_info": {
   "codemirror_mode": {
    "name": "ipython",
    "version": 3
   },
   "file_extension": ".py",
   "mimetype": "text/x-python",
   "name": "python",
   "nbconvert_exporter": "python",
   "pygments_lexer": "ipython3",
   "version": "3.7.4"
  }
 },
 "nbformat": 4,
 "nbformat_minor": 2
}
