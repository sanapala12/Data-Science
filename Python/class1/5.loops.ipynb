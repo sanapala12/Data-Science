{
 "cells": [
  {
   "cell_type": "code",
   "execution_count": 1,
   "metadata": {},
   "outputs": [
    {
     "name": "stdout",
     "output_type": "stream",
     "text": [
      "sum of r values  36\n"
     ]
    }
   ],
   "source": [
    "#For loop\n",
    "r=[1,2,3,4,5,6,7,8]\n",
    "\n",
    "sum=0\n",
    "for i in r:\n",
    "   sum = sum + i\n",
    "print(\"sum of r values \",sum)"
   ]
  },
  {
   "cell_type": "code",
   "execution_count": 5,
   "metadata": {},
   "outputs": [
    {
     "name": "stdout",
     "output_type": "stream",
     "text": [
      "executed else block\n",
      "sum of r values  6\n"
     ]
    }
   ],
   "source": [
    "r=[1,2,3,4,5,6,7,8]\n",
    "\n",
    "sum=0\n",
    "for i in r:\n",
    "   if(i==6):\n",
    "    sum = sum + i\n",
    "    continue\n",
    "else:\n",
    "    print(\"executed else block\")\n",
    "print(\"sum of r values \",sum)"
   ]
  },
  {
   "cell_type": "code",
   "execution_count": 6,
   "metadata": {},
   "outputs": [
    {
     "name": "stdout",
     "output_type": "stream",
     "text": [
      "sum of r values  15\n"
     ]
    }
   ],
   "source": [
    "r=[1,2,3,4,5,6,7,8]\n",
    "\n",
    "sum=0\n",
    "for i in r:\n",
    "   if(i==6):\n",
    "    break\n",
    "   sum = sum + i\n",
    "else:\n",
    "    print(\"executed else block\")\n",
    "print(\"sum of r values \",sum)"
   ]
  },
  {
   "cell_type": "code",
   "execution_count": 8,
   "metadata": {},
   "outputs": [
    {
     "name": "stdout",
     "output_type": "stream",
     "text": [
      "sum of r values  55\n"
     ]
    }
   ],
   "source": [
    "#While loop\n",
    "\n",
    "n=10\n",
    "sum = 0\n",
    "i=1\n",
    "\n",
    "while i<=n:\n",
    "    sum=sum+i\n",
    "    i=i+1\n",
    "print(\"sum of r values \",sum)"
   ]
  },
  {
   "cell_type": "code",
   "execution_count": null,
   "metadata": {},
   "outputs": [],
   "source": []
  }
 ],
 "metadata": {
  "kernelspec": {
   "display_name": "Python 3",
   "language": "python",
   "name": "python3"
  },
  "language_info": {
   "codemirror_mode": {
    "name": "ipython",
    "version": 3
   },
   "file_extension": ".py",
   "mimetype": "text/x-python",
   "name": "python",
   "nbconvert_exporter": "python",
   "pygments_lexer": "ipython3",
   "version": "3.7.4"
  }
 },
 "nbformat": 4,
 "nbformat_minor": 2
}
